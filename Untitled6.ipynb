{
  "nbformat": 4,
  "nbformat_minor": 0,
  "metadata": {
    "colab": {
      "provenance": [],
      "mount_file_id": "1-mJPMtfjlWgwlUwHCWkDplyuBNyqlY4Z",
      "authorship_tag": "ABX9TyNbFQ62rsffgqMXz6CdwklF",
      "include_colab_link": true
    },
    "kernelspec": {
      "name": "python3",
      "display_name": "Python 3"
    },
    "language_info": {
      "name": "python"
    }
  },
  "cells": [
    {
      "cell_type": "markdown",
      "metadata": {
        "id": "view-in-github",
        "colab_type": "text"
      },
      "source": [
        "<a href=\"https://colab.research.google.com/github/yuva2004/main/blob/main/Untitled6.ipynb\" target=\"_parent\"><img src=\"https://colab.research.google.com/assets/colab-badge.svg\" alt=\"Open In Colab\"/></a>"
      ]
    },
    {
      "cell_type": "code",
      "execution_count": 3,
      "metadata": {
        "colab": {
          "base_uri": "https://localhost:8080/"
        },
        "id": "v0Abn4jKHS-Q",
        "outputId": "80420e98-ab1a-4989-dd74-c038b32df45c"
      },
      "outputs": [
        {
          "output_type": "stream",
          "name": "stdout",
          "text": [
            "Weekly Pay: Rs12000\n",
            "Monthly Income: Rs48000\n",
            "Annual Income: Rs624000\n"
          ]
        }
      ],
      "source": [
        "#1.income\n",
        "hour_rate = 250\n",
        "overtime = 100\n",
        "fixed_hours_week = 48\n",
        "given_working = 56\n",
        "extra_hours_week = given_working - fixed_hours_week\n",
        "if extra_hours_week > 0:\n",
        "  weekly_pay = (fixed_hours_week * hour_rate) + (extra_hours_week * (hour_rate + overtime))\n",
        "else:\n",
        "  weekly_pay = fixed_hours_week * hour_rate\n",
        "monthly_income = weekly_pay * 4\n",
        "annual_income = weekly_pay * 52\n",
        "print(f\"Weekly Pay: Rs{weekly_pay}\")\n",
        "print(f\"Monthly Income: Rs{monthly_income}\")\n",
        "print(f\"Annual Income: Rs{annual_income}\")\n"
      ]
    },
    {
      "cell_type": "code",
      "source": [
        "#lectricity bill\n",
        "def calculate_base_bill(units):\n",
        "    if units <= 100:\n",
        "        return units * 0.50\n",
        "    elif units <= 200:\n",
        "        return (100 * 0.50) + ((units - 100) * 0.75)\n",
        "    elif units <= 300:\n",
        "        return (100 * 0.50) + (100 * 0.75) + ((units - 200) * 1.20)\n",
        "    else:\n",
        "        return (100 * 0.50) + (100 * 0.75) + (100 * 1.20) + ((units - 300) * 1.50)\n",
        "\n",
        "def calculate_bill(units, user_type):\n",
        "    base_cost = calculate_base_bill(units)\n",
        "    user_type = user_type.lower()\n",
        "\n",
        "    if user_type == \"household\":\n",
        "        return base_cost\n",
        "    elif user_type == \"commercial\":\n",
        "        return base_cost * 2\n",
        "    elif user_type == \"industrial\":\n",
        "        return base_cost * 3\n",
        "    elif user_type == \"government\":\n",
        "        return base_cost * 1.5\n",
        "    else:\n",
        "        return -1\n",
        "num_users = int(input(\"Enter number of users: \"))\n",
        "\n",
        "for i in range(num_users):\n",
        "    print(f\"\\nUser {i+1}\")\n",
        "    units = int(input(\"Enter units consumed: \"))\n",
        "    user_type = input(\"Enter user type (household/commercial/industrial/government): \")\n",
        "\n",
        "    total_bill = calculate_bill(units, user_type)\n",
        "\n",
        "    if total_bill == -1:\n",
        "        print(\"Invalid user type. Please enter household, commercial, industrial, or government.\")\n",
        "    else:\n",
        "        print(f\"User Type: {user_type.capitalize()}\")\n",
        "        print(f\"Units Consumed: {units}\")\n",
        "        print(f\"Total Electricity Bill: ₹{total_bill:.2f}\")"
      ],
      "metadata": {
        "colab": {
          "base_uri": "https://localhost:8080/"
        },
        "id": "iWOhPAhSMVxl",
        "outputId": "87d52d3c-e51d-4447-943e-48fe5eb1ca7b"
      },
      "execution_count": 4,
      "outputs": [
        {
          "output_type": "stream",
          "name": "stdout",
          "text": [
            "Enter number of users: 1\n",
            "\n",
            "User 1\n",
            "Enter units consumed: 300\n",
            "Enter user type (household/commercial/industrial/government): government\n",
            "User Type: Government\n",
            "Units Consumed: 300\n",
            "Total Electricity Bill: ₹367.50\n"
          ]
        }
      ]
    },
    {
      "cell_type": "code",
      "source": [
        "#data science quiz\n",
        "class QuizBase:\n",
        "    def __init__(self):\n",
        "        self.questions = {\n",
        "            \"What does CSV stand for in data files? \": \"comma separated values\",\n",
        "            \"Which library is used for data analysis in Python? \": \"pandas\",\n",
        "            \"Which algorithm is used for classification problems? \": \"logistic regression\",\n",
        "            \"What does NaN stand for in data? \": \"not a number\",\n",
        "            \"Which language is widely used in data science? \": \"python\"\n",
        "        }\n",
        "        self.score = 0\n",
        "\n",
        "    def ask_questions(self):\n",
        "        for question, correct_answer in self.questions.items():\n",
        "            user_answer = input(question).strip().lower()\n",
        "            if user_answer == correct_answer:\n",
        "                self.score += 2\n",
        "                print(\" Correct! +2\")\n",
        "            else:\n",
        "                self.score -= 1\n",
        "                print(\" Wrong! -1\")\n",
        "\n",
        "\n",
        "class DataScienceQuiz(QuizBase):\n",
        "    def __init__(self):\n",
        "        super().__init__()\n",
        "\n",
        "    def start_quiz(self):\n",
        "        print(\" Welcome to the Data Science Quiz!\")\n",
        "        print(\"Each correct answer gives +2, each wrong gives -1.\\n\")\n",
        "        self.ask_questions()\n",
        "        print(\"\\n Quiz Over!\")\n",
        "        print(f\"Your Total Score: {self.score} out of 10\")\n",
        "\n",
        "\n",
        "quiz = DataScienceQuiz()\n",
        "quiz.start_quiz()"
      ],
      "metadata": {
        "id": "VL0zN4-qOPBB"
      },
      "execution_count": null,
      "outputs": []
    },
    {
      "cell_type": "code",
      "source": [
        "#employee salary\n",
        "class Employee:\n",
        "    def __init__(self, name, basic_salary):\n",
        "        self.name = name\n",
        "        self.basic = basic_salary\n",
        "class SalaryCalculator(Employee):\n",
        "    def calculate_allowances(self):\n",
        "        da = self.basic * 0.20\n",
        "        hra = self.basic * 0.10\n",
        "        ta = self.basic * 0.075\n",
        "        return da, hra, ta\n",
        "\n",
        "    def calculate_deductions(self):\n",
        "        pf = self.basic * 0.12\n",
        "        emi = self.basic * 0.02\n",
        "        return pf, emi\n",
        "\n",
        "    def calculate_salary(self):\n",
        "        da, hra, ta = self.calculate_allowances()\n",
        "        pf, emi = self.calculate_deductions()\n",
        "        gross_salary = self.basic + da + hra + ta\n",
        "        net_salary = gross_salary - (pf + emi)\n",
        "        self.display_salary(gross_salary, net_salary)\n",
        "\n",
        "    def display_salary(self, gross, net):\n",
        "        print(f\"\\nEmployee Name   : {self.name}\")\n",
        "        print(f\"Basic Salary    : ₹{self.basic:.2f}\")\n",
        "        print(f\"Gross Salary    : ₹{gross:.2f}\")\n",
        "        print(f\"Net Salary      : ₹{net:.2f}\")\n",
        "        print(\"-\" * 30)\n",
        "num_employees = int(input(\"Enter number of employees: \"))\n",
        "\n",
        "for i in range(num_employees):\n",
        "    print(f\"\\nEmployee {i + 1}\")\n",
        "    name = input(\"Enter employee name: \")\n",
        "    basic_salary = float(input(\"Enter basic salary: ₹\"))\n",
        "\n",
        "    emp = SalaryCalculator(name, basic_salary)\n",
        "    emp.calculate_salary()\n"
      ],
      "metadata": {
        "colab": {
          "base_uri": "https://localhost:8080/"
        },
        "id": "V83iv7z9PIFN",
        "outputId": "62e1f633-bc43-4bab-8173-f0004fdcfd83"
      },
      "execution_count": 5,
      "outputs": [
        {
          "output_type": "stream",
          "name": "stdout",
          "text": [
            "Enter number of employees: 1\n",
            "\n",
            "Employee 1\n",
            "Enter employee name: yuva\n",
            "Enter basic salary: ₹50000\n",
            "\n",
            "Employee Name   : yuva\n",
            "Basic Salary    : ₹50000.00\n",
            "Gross Salary    : ₹68750.00\n",
            "Net Salary      : ₹61750.00\n",
            "------------------------------\n"
          ]
        }
      ]
    }
  ]
}